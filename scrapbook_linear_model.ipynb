{
 "cells": [
  {
   "cell_type": "code",
   "execution_count": 1,
   "metadata": {},
   "outputs": [],
   "source": [
    "import torch\n",
    "import torch.nn as nn\n",
    "import torch.optim as optim\n",
    "import numpy as np\n",
    "import pandas as pd"
   ]
  },
  {
   "cell_type": "code",
   "execution_count": 2,
   "metadata": {},
   "outputs": [],
   "source": [
    "device = torch.device(\"cuda\" if torch.cuda.is_available() else \"cpu\")"
   ]
  },
  {
   "cell_type": "code",
   "execution_count": 3,
   "metadata": {},
   "outputs": [
    {
     "name": "stdout",
     "output_type": "stream",
     "text": [
      "cuda\n"
     ]
    }
   ],
   "source": [
    "print(device)"
   ]
  },
  {
   "cell_type": "code",
   "execution_count": 4,
   "metadata": {},
   "outputs": [],
   "source": [
    "data = pd.read_csv(\"https://raw.githubusercontent.com/hsiav2000/simple-regression/master/Salary_Data.csv\")"
   ]
  },
  {
   "cell_type": "code",
   "execution_count": 5,
   "metadata": {},
   "outputs": [
    {
     "data": {
      "text/html": [
       "<div>\n",
       "<style scoped>\n",
       "    .dataframe tbody tr th:only-of-type {\n",
       "        vertical-align: middle;\n",
       "    }\n",
       "\n",
       "    .dataframe tbody tr th {\n",
       "        vertical-align: top;\n",
       "    }\n",
       "\n",
       "    .dataframe thead th {\n",
       "        text-align: right;\n",
       "    }\n",
       "</style>\n",
       "<table border=\"1\" class=\"dataframe\">\n",
       "  <thead>\n",
       "    <tr style=\"text-align: right;\">\n",
       "      <th></th>\n",
       "      <th>YearsExperience</th>\n",
       "      <th>Salary</th>\n",
       "    </tr>\n",
       "  </thead>\n",
       "  <tbody>\n",
       "    <tr>\n",
       "      <th>YearsExperience</th>\n",
       "      <td>1.000000</td>\n",
       "      <td>0.978242</td>\n",
       "    </tr>\n",
       "    <tr>\n",
       "      <th>Salary</th>\n",
       "      <td>0.978242</td>\n",
       "      <td>1.000000</td>\n",
       "    </tr>\n",
       "  </tbody>\n",
       "</table>\n",
       "</div>"
      ],
      "text/plain": [
       "                 YearsExperience    Salary\n",
       "YearsExperience         1.000000  0.978242\n",
       "Salary                  0.978242  1.000000"
      ]
     },
     "execution_count": 5,
     "metadata": {},
     "output_type": "execute_result"
    }
   ],
   "source": [
    "data.corr()"
   ]
  },
  {
   "cell_type": "code",
   "execution_count": 6,
   "metadata": {},
   "outputs": [],
   "source": [
    "X = torch.tensor(data.YearsExperience).float().view((30,1)).to(device)\n",
    "y = torch.tensor(data.Salary).float().view((30,1)).to(device)"
   ]
  },
  {
   "cell_type": "code",
   "execution_count": 7,
   "metadata": {},
   "outputs": [
    {
     "data": {
      "text/plain": [
       "tensor([[ 1.1000],\n",
       "        [ 1.3000],\n",
       "        [ 1.5000],\n",
       "        [ 2.0000],\n",
       "        [ 2.2000],\n",
       "        [ 2.9000],\n",
       "        [ 3.0000],\n",
       "        [ 3.2000],\n",
       "        [ 3.2000],\n",
       "        [ 3.7000],\n",
       "        [ 3.9000],\n",
       "        [ 4.0000],\n",
       "        [ 4.0000],\n",
       "        [ 4.1000],\n",
       "        [ 4.5000],\n",
       "        [ 4.9000],\n",
       "        [ 5.1000],\n",
       "        [ 5.3000],\n",
       "        [ 5.9000],\n",
       "        [ 6.0000],\n",
       "        [ 6.8000],\n",
       "        [ 7.1000],\n",
       "        [ 7.9000],\n",
       "        [ 8.2000],\n",
       "        [ 8.7000],\n",
       "        [ 9.0000],\n",
       "        [ 9.5000],\n",
       "        [ 9.6000],\n",
       "        [10.3000],\n",
       "        [10.5000]], device='cuda:0')"
      ]
     },
     "execution_count": 7,
     "metadata": {},
     "output_type": "execute_result"
    }
   ],
   "source": [
    "X"
   ]
  },
  {
   "cell_type": "code",
   "execution_count": 8,
   "metadata": {},
   "outputs": [
    {
     "data": {
      "text/plain": [
       "tensor([[ 39343.],\n",
       "        [ 46205.],\n",
       "        [ 37731.],\n",
       "        [ 43525.],\n",
       "        [ 39891.],\n",
       "        [ 56642.],\n",
       "        [ 60150.],\n",
       "        [ 54445.],\n",
       "        [ 64445.],\n",
       "        [ 57189.],\n",
       "        [ 63218.],\n",
       "        [ 55794.],\n",
       "        [ 56957.],\n",
       "        [ 57081.],\n",
       "        [ 61111.],\n",
       "        [ 67938.],\n",
       "        [ 66029.],\n",
       "        [ 83088.],\n",
       "        [ 81363.],\n",
       "        [ 93940.],\n",
       "        [ 91738.],\n",
       "        [ 98273.],\n",
       "        [101302.],\n",
       "        [113812.],\n",
       "        [109431.],\n",
       "        [105582.],\n",
       "        [116969.],\n",
       "        [112635.],\n",
       "        [122391.],\n",
       "        [121872.]], device='cuda:0')"
      ]
     },
     "execution_count": 8,
     "metadata": {},
     "output_type": "execute_result"
    }
   ],
   "source": [
    "y"
   ]
  },
  {
   "cell_type": "code",
   "execution_count": 9,
   "metadata": {},
   "outputs": [],
   "source": [
    "class LinearRegression(nn.Module):\n",
    "    def __init__(self, input_size, output_size):\n",
    "        super().__init__()\n",
    "        self.linear = nn.Linear(input_size, output_size)\n",
    "        \n",
    "    def forward(self, x):\n",
    "        pred = self.linear(x)\n",
    "        return pred"
   ]
  },
  {
   "cell_type": "code",
   "execution_count": 10,
   "metadata": {},
   "outputs": [],
   "source": [
    "model = LinearRegression(1, 1).to(device)"
   ]
  },
  {
   "cell_type": "code",
   "execution_count": 11,
   "metadata": {},
   "outputs": [
    {
     "data": {
      "text/plain": [
       "[Parameter containing:\n",
       " tensor([[0.2449]], device='cuda:0', requires_grad=True),\n",
       " Parameter containing:\n",
       " tensor([-0.9265], device='cuda:0', requires_grad=True)]"
      ]
     },
     "execution_count": 11,
     "metadata": {},
     "output_type": "execute_result"
    }
   ],
   "source": [
    "list(model.parameters())"
   ]
  },
  {
   "cell_type": "code",
   "execution_count": 12,
   "metadata": {},
   "outputs": [],
   "source": [
    "y_hat = model(X)"
   ]
  },
  {
   "cell_type": "code",
   "execution_count": 13,
   "metadata": {},
   "outputs": [
    {
     "data": {
      "text/plain": [
       "OrderedDict([('linear.weight', tensor([[0.2449]], device='cuda:0')),\n",
       "             ('linear.bias', tensor([-0.9265], device='cuda:0'))])"
      ]
     },
     "execution_count": 13,
     "metadata": {},
     "output_type": "execute_result"
    }
   ],
   "source": [
    "model.state_dict()"
   ]
  },
  {
   "cell_type": "code",
   "execution_count": 14,
   "metadata": {},
   "outputs": [],
   "source": [
    "optimizer = optim.SGD(model.parameters(), lr=0.01)"
   ]
  },
  {
   "cell_type": "code",
   "execution_count": 15,
   "metadata": {},
   "outputs": [],
   "source": [
    "loss_fn  = nn.MSELoss()"
   ]
  },
  {
   "cell_type": "code",
   "execution_count": 16,
   "metadata": {},
   "outputs": [],
   "source": [
    "n_epochs = 1000"
   ]
  },
  {
   "cell_type": "code",
   "execution_count": 17,
   "metadata": {},
   "outputs": [
    {
     "name": "stdout",
     "output_type": "stream",
     "text": [
      "Log Loss (SSE/MSE): 22.59550827630288\n",
      "Log Loss (SSE/MSE): 18.24642668520769\n",
      "Log Loss (SSE/MSE): 17.80188616847821\n",
      "Log Loss (SSE/MSE): 17.527763804187515\n",
      "Log Loss (SSE/MSE): 17.382644210024363\n",
      "Log Loss (SSE/MSE): 17.313408304191135\n",
      "Log Loss (SSE/MSE): 17.282220798442847\n",
      "Log Loss (SSE/MSE): 17.268559571447955\n",
      "Log Loss (SSE/MSE): 17.262650242963158\n",
      "Log Loss (SSE/MSE): 17.260108750140564\n"
     ]
    }
   ],
   "source": [
    "for epoch in range(n_epochs):\n",
    "    model.train()\n",
    "\n",
    "    y_hat = model(X)\n",
    "    loss = loss_fn(y_hat, y)\n",
    "\n",
    "    if epoch % 100 == 0:\n",
    "        print(f\"Log Loss (SSE/MSE): {np.log(loss.item())}\")\n",
    "\n",
    "    optimizer.zero_grad()\n",
    "    loss.backward()\n",
    "    optimizer.step()"
   ]
  },
  {
   "cell_type": "code",
   "execution_count": 18,
   "metadata": {},
   "outputs": [
    {
     "data": {
      "text/plain": [
       "OrderedDict([('linear.weight', tensor([[9501.0146]], device='cuda:0')),\n",
       "             ('linear.bias', tensor([25448.1719], device='cuda:0'))])"
      ]
     },
     "execution_count": 18,
     "metadata": {},
     "output_type": "execute_result"
    }
   ],
   "source": [
    "model.state_dict()"
   ]
  },
  {
   "cell_type": "code",
   "execution_count": 20,
   "metadata": {},
   "outputs": [
    {
     "data": {
      "text/plain": [
       "[(35899.29, 39343.0),\n",
       " (37799.492, 46205.0),\n",
       " (39699.695, 37731.0),\n",
       " (44450.203, 43525.0),\n",
       " (46350.406, 39891.0),\n",
       " (53001.117, 56642.0),\n",
       " (53951.215, 60150.0),\n",
       " (55851.418, 54445.0),\n",
       " (55851.418, 64445.0),\n",
       " (60601.926, 57189.0),\n",
       " (62502.13, 63218.0),\n",
       " (63452.23, 55794.0),\n",
       " (63452.23, 56957.0),\n",
       " (64402.332, 57081.0),\n",
       " (68202.734, 61111.0),\n",
       " (72003.15, 67938.0),\n",
       " (73903.34, 66029.0),\n",
       " (75803.555, 83088.0),\n",
       " (81504.16, 81363.0),\n",
       " (82454.26, 93940.0),\n",
       " (90055.07, 91738.0),\n",
       " (92905.375, 98273.0),\n",
       " (100506.19, 101302.0),\n",
       " (103356.49, 113812.0),\n",
       " (108107.0, 109431.0),\n",
       " (110957.305, 105582.0),\n",
       " (115707.81, 116969.0),\n",
       " (116657.914, 112635.0),\n",
       " (123308.625, 122391.0),\n",
       " (125208.83, 121872.0)]"
      ]
     },
     "execution_count": 20,
     "metadata": {},
     "output_type": "execute_result"
    }
   ],
   "source": [
    "list(zip(model(X).squeeze().detach().cpu().numpy(), y.squeeze().detach().cpu().numpy()))"
   ]
  },
  {
   "cell_type": "code",
   "execution_count": null,
   "metadata": {},
   "outputs": [],
   "source": []
  }
 ],
 "metadata": {
  "kernelspec": {
   "display_name": "deep",
   "language": "python",
   "name": "python3"
  },
  "language_info": {
   "codemirror_mode": {
    "name": "ipython",
    "version": 3
   },
   "file_extension": ".py",
   "mimetype": "text/x-python",
   "name": "python",
   "nbconvert_exporter": "python",
   "pygments_lexer": "ipython3",
   "version": "3.9.16"
  },
  "orig_nbformat": 4
 },
 "nbformat": 4,
 "nbformat_minor": 2
}

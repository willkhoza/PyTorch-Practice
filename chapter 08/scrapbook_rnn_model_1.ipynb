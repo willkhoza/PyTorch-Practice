{
 "cells": [
  {
   "cell_type": "code",
   "execution_count": 1,
   "metadata": {},
   "outputs": [],
   "source": [
    "import numpy as np\n",
    "\n",
    "def generate_sequences(n=128, variable_len=False, seed=13):\n",
    "    basic_corners = np.array([[-1, -1], [-1, 1], [1, 1], [1, -1]])\n",
    "    np.random.seed(seed)\n",
    "    bases = np.random.randint(4, size=n)\n",
    "    if variable_len:\n",
    "        lengths = np.random.randint(3, size=n) + 2\n",
    "    else:\n",
    "        lengths = [4] * n\n",
    "    directions = np.random.randint(2, size=n)\n",
    "    points = [basic_corners[[(b + i) % 4 for i in range(4)]][slice(None, None, d*2-1)][:l] + np.random.randn(l, 2) * 0.1 for b, d, l in zip(bases, directions, lengths)]\n",
    "    return points, directions"
   ]
  },
  {
   "cell_type": "code",
   "execution_count": 2,
   "metadata": {},
   "outputs": [],
   "source": [
    "import torch\n",
    "from torch import optim\n",
    "from torch import nn\n",
    "from torch.nn import functional as F\n",
    "from torch.utils.data import DataLoader, TensorDataset"
   ]
  },
  {
   "cell_type": "code",
   "execution_count": 3,
   "metadata": {},
   "outputs": [],
   "source": [
    "points, directions = generate_sequences()"
   ]
  },
  {
   "cell_type": "code",
   "execution_count": 4,
   "metadata": {},
   "outputs": [],
   "source": [
    "X = torch.from_numpy(np.array(points)).float()"
   ]
  },
  {
   "cell_type": "code",
   "execution_count": 5,
   "metadata": {},
   "outputs": [],
   "source": [
    "y = torch.from_numpy(np.array(directions)).float()"
   ]
  },
  {
   "cell_type": "code",
   "execution_count": 6,
   "metadata": {},
   "outputs": [],
   "source": [
    "train_data = TensorDataset(X, y)\n",
    "data_loader = DataLoader(train_data, batch_size=3, shuffle=True)"
   ]
  },
  {
   "cell_type": "code",
   "execution_count": 7,
   "metadata": {},
   "outputs": [
    {
     "data": {
      "text/plain": [
       "tensor([0., 0.])"
      ]
     },
     "execution_count": 7,
     "metadata": {},
     "output_type": "execute_result"
    }
   ],
   "source": [
    "# create a 2 dimensional hidden state from scratch\n",
    "hidden_state = torch.zeros((2,))\n",
    "hidden_state"
   ]
  },
  {
   "cell_type": "code",
   "execution_count": 8,
   "metadata": {},
   "outputs": [],
   "source": [
    "rnn_cell = nn.RNNCell(10, 2)"
   ]
  },
  {
   "cell_type": "code",
   "execution_count": 9,
   "metadata": {},
   "outputs": [
    {
     "data": {
      "text/plain": [
       "OrderedDict([('weight_ih',\n",
       "              tensor([[-0.0280, -0.3024, -0.4793,  0.3541,  0.5490, -0.3960, -0.5311,  0.5526,\n",
       "                       -0.2114,  0.2015],\n",
       "                      [-0.3974,  0.6797,  0.0847, -0.2387,  0.6293,  0.4212, -0.0862, -0.5283,\n",
       "                       -0.3907, -0.5696]])),\n",
       "             ('weight_hh',\n",
       "              tensor([[-0.5745,  0.3723],\n",
       "                      [-0.4696, -0.1608]])),\n",
       "             ('bias_ih', tensor([ 0.5436, -0.0545])),\n",
       "             ('bias_hh', tensor([0.2536, 0.0924]))])"
      ]
     },
     "execution_count": 9,
     "metadata": {},
     "output_type": "execute_result"
    }
   ],
   "source": [
    "rnn_cell.state_dict()"
   ]
  },
  {
   "cell_type": "code",
   "execution_count": null,
   "metadata": {},
   "outputs": [],
   "source": []
  },
  {
   "cell_type": "code",
   "execution_count": 10,
   "metadata": {},
   "outputs": [],
   "source": [
    "X_train, y_train = next(iter(data_loader))"
   ]
  },
  {
   "cell_type": "code",
   "execution_count": 11,
   "metadata": {},
   "outputs": [
    {
     "data": {
      "text/plain": [
       "torch.Size([3, 4, 2])"
      ]
     },
     "execution_count": 11,
     "metadata": {},
     "output_type": "execute_result"
    }
   ],
   "source": [
    "X_train.shape"
   ]
  },
  {
   "cell_type": "code",
   "execution_count": 12,
   "metadata": {},
   "outputs": [],
   "source": [
    "rnn_layer = nn.RNN(input_size = 2, hidden_size = 2, batch_first=True)"
   ]
  },
  {
   "cell_type": "code",
   "execution_count": 13,
   "metadata": {},
   "outputs": [
    {
     "data": {
      "text/plain": [
       "OrderedDict([('weight_ih_l0',\n",
       "              tensor([[0.1358, 0.4976],\n",
       "                      [0.3554, 0.2284]])),\n",
       "             ('weight_hh_l0',\n",
       "              tensor([[ 0.4140,  0.5241],\n",
       "                      [ 0.3864, -0.6528]])),\n",
       "             ('bias_ih_l0', tensor([0.6427, 0.4776])),\n",
       "             ('bias_hh_l0', tensor([-0.3140,  0.3424]))])"
      ]
     },
     "execution_count": 13,
     "metadata": {},
     "output_type": "execute_result"
    }
   ],
   "source": [
    "rnn_layer.state_dict()"
   ]
  },
  {
   "cell_type": "code",
   "execution_count": 14,
   "metadata": {},
   "outputs": [],
   "source": [
    "out, final_hidden = rnn_layer(X_train)"
   ]
  },
  {
   "cell_type": "code",
   "execution_count": 15,
   "metadata": {},
   "outputs": [
    {
     "data": {
      "text/plain": [
       "torch.Size([3, 4, 2])"
      ]
     },
     "execution_count": 15,
     "metadata": {},
     "output_type": "execute_result"
    }
   ],
   "source": [
    "out.shape"
   ]
  },
  {
   "cell_type": "code",
   "execution_count": 16,
   "metadata": {},
   "outputs": [
    {
     "data": {
      "text/plain": [
       "torch.Size([1, 3, 2])"
      ]
     },
     "execution_count": 16,
     "metadata": {},
     "output_type": "execute_result"
    }
   ],
   "source": [
    "final_hidden.shape"
   ]
  },
  {
   "cell_type": "code",
   "execution_count": 17,
   "metadata": {},
   "outputs": [],
   "source": [
    "class RNNModel(nn.Module):\n",
    "    def __init__(self, input_size=2, hidden_size=2, output_size=1):\n",
    "        super().__init__()\n",
    "        self.input_size = input_size\n",
    "        self.hidden_size = hidden_size\n",
    "        self.output_size = output_size\n",
    "        self.rnn = nn.RNN(self.input_size, self.hidden_size, batch_first = True)\n",
    "        self.linear = nn.Linear(self.hidden_size, self.output_size)\n",
    "\n",
    "    def forward(self, X):\n",
    "        out, context = self.rnn(X)\n",
    "        return self.linear(out[:, -1])"
   ]
  },
  {
   "cell_type": "code",
   "execution_count": 18,
   "metadata": {},
   "outputs": [],
   "source": [
    "model = RNNModel()"
   ]
  },
  {
   "cell_type": "code",
   "execution_count": 19,
   "metadata": {},
   "outputs": [],
   "source": [
    "loss_fn = nn.BCEWithLogitsLoss()\n",
    "optimizer = optim.SGD(model.parameters(), lr=0.1)"
   ]
  },
  {
   "cell_type": "code",
   "execution_count": 20,
   "metadata": {},
   "outputs": [
    {
     "data": {
      "text/plain": [
       "tensor([[ 0.1880],\n",
       "        [-0.1378],\n",
       "        [-0.2010]], grad_fn=<AddmmBackward0>)"
      ]
     },
     "execution_count": 20,
     "metadata": {},
     "output_type": "execute_result"
    }
   ],
   "source": [
    "model(X_train)"
   ]
  },
  {
   "cell_type": "code",
   "execution_count": 21,
   "metadata": {},
   "outputs": [
    {
     "data": {
      "text/plain": [
       "tensor([0., 0., 1.])"
      ]
     },
     "execution_count": 21,
     "metadata": {},
     "output_type": "execute_result"
    }
   ],
   "source": [
    "y_train"
   ]
  },
  {
   "cell_type": "code",
   "execution_count": 22,
   "metadata": {},
   "outputs": [],
   "source": [
    "epochs = 100"
   ]
  },
  {
   "cell_type": "code",
   "execution_count": 23,
   "metadata": {},
   "outputs": [
    {
     "name": "stdout",
     "output_type": "stream",
     "text": [
      "Loss: 0.6955564271572025\n",
      "Loss: 0.6820544032163398\n",
      "Loss: 0.6500246254510658\n",
      "Loss: 0.5930489405643108\n",
      "Loss: 0.5322521010110545\n",
      "Loss: 0.46968023513638696\n",
      "Loss: 0.400568465680577\n",
      "Loss: 0.3365733327214108\n",
      "Loss: 0.2740503592893135\n",
      "Loss: 0.31597113251946\n",
      "Loss: 0.28187567766669186\n",
      "Loss: 0.2584075388000455\n",
      "Loss: 0.2856497224961776\n",
      "Loss: 0.28665401099986115\n",
      "Loss: 0.25576595372931904\n",
      "Loss: 0.23462752770459236\n",
      "Loss: 0.23414958203428013\n",
      "Loss: 0.21858388606762125\n",
      "Loss: 0.27275814040195806\n",
      "Loss: 0.23697587978744575\n",
      "Loss: 0.2176010811506489\n",
      "Loss: 0.20752036969480647\n",
      "Loss: 0.19084421313519395\n",
      "Loss: 0.19668967870259008\n",
      "Loss: 0.21937982403391668\n",
      "Loss: 0.187467823357343\n",
      "Loss: 0.2326197658427233\n",
      "Loss: 0.20020401256353876\n",
      "Loss: 0.1855255996234455\n",
      "Loss: 0.2556212926283479\n",
      "Loss: 0.21234133702616187\n",
      "Loss: 0.20537768388275318\n",
      "Loss: 0.20909627064044567\n",
      "Loss: 0.2078653136918018\n",
      "Loss: 0.2395170311535557\n",
      "Loss: 0.2091280975064999\n",
      "Loss: 0.219069680978739\n",
      "Loss: 0.2772647450342341\n",
      "Loss: 0.24178736168501336\n",
      "Loss: 0.21945457391679113\n",
      "Loss: 0.2064908206419543\n",
      "Loss: 0.2012835380642913\n",
      "Loss: 0.18942333254854865\n",
      "Loss: 0.1939895531530817\n",
      "Loss: 0.20406870918651654\n",
      "Loss: 0.20159742506058498\n",
      "Loss: 0.21469648427405763\n",
      "Loss: 0.21441499147358414\n",
      "Loss: 0.20527776959893662\n",
      "Loss: 0.20338643190645894\n",
      "Loss: 0.2031922333489367\n",
      "Loss: 0.20327252094081583\n",
      "Loss: 0.20429485365423525\n",
      "Loss: 0.20573333279652045\n",
      "Loss: 0.20246150613719122\n",
      "Loss: 0.20020634298440243\n",
      "Loss: 0.16775994762225988\n",
      "Loss: 0.4395726005787701\n",
      "Loss: 0.36221938133564624\n",
      "Loss: 0.2704597301645811\n",
      "Loss: 0.24617355250547704\n",
      "Loss: 0.2202549518524604\n",
      "Loss: 0.20831100073599712\n",
      "Loss: 0.20571798553722803\n",
      "Loss: 0.20271888601615332\n",
      "Loss: 0.20475723352662267\n",
      "Loss: 0.20221760911802047\n",
      "Loss: 0.20362081734712648\n",
      "Loss: 0.2059681540961529\n",
      "Loss: 0.2025431898438783\n",
      "Loss: 0.19998373896652444\n",
      "Loss: 0.20613336901797719\n",
      "Loss: 0.20135781500585984\n",
      "Loss: 0.20324834536890998\n",
      "Loss: 0.2041187144972947\n",
      "Loss: 0.20088057283875208\n",
      "Loss: 0.2010073699842229\n",
      "Loss: 0.2043056022863142\n",
      "Loss: 0.2038462539934445\n",
      "Loss: 0.20355254375419124\n",
      "Loss: 0.20305043419140803\n",
      "Loss: 0.20087837167950565\n",
      "Loss: 0.20086426168496094\n",
      "Loss: 0.20352451562432053\n",
      "Loss: 0.2046366768326004\n",
      "Loss: 0.19954026842538572\n",
      "Loss: 0.20568394755435632\n",
      "Loss: 0.20082315630117042\n",
      "Loss: 0.20254553536895317\n",
      "Loss: 0.20268708665389568\n",
      "Loss: 0.20225056824490947\n",
      "Loss: 0.20178657971040972\n",
      "Loss: 0.20200040616463263\n",
      "Loss: 0.2001061620567059\n",
      "Loss: 0.1998648767083407\n",
      "Loss: 0.1994995781759255\n",
      "Loss: 0.20401417341917147\n",
      "Loss: 0.20345262402051323\n",
      "Loss: 0.20334819696578305\n",
      "Loss: 0.20542811655959245\n"
     ]
    }
   ],
   "source": [
    "history = []\n",
    "for epoch in range(epochs):\n",
    "    batch_loss = []\n",
    "    for X, y in data_loader:\n",
    "        model.train()\n",
    "        y_hat = model(X)\n",
    "        loss = loss_fn(y_hat, y.view(-1,1))\n",
    "        optimizer.zero_grad()\n",
    "        loss.backward()\n",
    "        optimizer.step()\n",
    "        batch_loss.append(loss.item())\n",
    "    history.append(np.array(batch_loss).mean())\n",
    "    print(f\"Loss: {history[-1]}\")"
   ]
  },
  {
   "cell_type": "code",
   "execution_count": 31,
   "metadata": {},
   "outputs": [
    {
     "data": {
      "text/plain": [
       "tensor([[0.],\n",
       "        [0.],\n",
       "        [1.]], grad_fn=<RoundBackward0>)"
      ]
     },
     "execution_count": 31,
     "metadata": {},
     "output_type": "execute_result"
    }
   ],
   "source": [
    "model(X_train).clip(0,1).round()"
   ]
  },
  {
   "cell_type": "code",
   "execution_count": 30,
   "metadata": {},
   "outputs": [
    {
     "data": {
      "text/plain": [
       "tensor([0., 0., 1.])"
      ]
     },
     "execution_count": 30,
     "metadata": {},
     "output_type": "execute_result"
    }
   ],
   "source": [
    "y_train"
   ]
  },
  {
   "cell_type": "code",
   "execution_count": null,
   "metadata": {},
   "outputs": [],
   "source": []
  }
 ],
 "metadata": {
  "kernelspec": {
   "display_name": "torch",
   "language": "python",
   "name": "python3"
  },
  "language_info": {
   "codemirror_mode": {
    "name": "ipython",
    "version": 3
   },
   "file_extension": ".py",
   "mimetype": "text/x-python",
   "name": "python",
   "nbconvert_exporter": "python",
   "pygments_lexer": "ipython3",
   "version": "3.9.16"
  },
  "orig_nbformat": 4
 },
 "nbformat": 4,
 "nbformat_minor": 2
}

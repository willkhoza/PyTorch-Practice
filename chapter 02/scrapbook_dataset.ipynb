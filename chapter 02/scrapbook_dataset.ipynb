{
 "cells": [
  {
   "cell_type": "code",
   "execution_count": 1,
   "metadata": {},
   "outputs": [],
   "source": [
    "import torch\n",
    "from torch import nn, optim\n",
    "from torch.utils.data import DataLoader, TensorDataset\n",
    "from matplotlib import pyplot as plt"
   ]
  },
  {
   "cell_type": "code",
   "execution_count": 2,
   "metadata": {},
   "outputs": [],
   "source": [
    "%matplotlib inline"
   ]
  },
  {
   "cell_type": "code",
   "execution_count": 3,
   "metadata": {},
   "outputs": [],
   "source": [
    "N = 100\n",
    "X_ = torch.randn((N)).view((-1,1))\n",
    "e_ = torch.randn((N)).view((-1,1))\n",
    "y_ = X_.mul(2).add(10).add(e_)"
   ]
  },
  {
   "cell_type": "code",
   "execution_count": 4,
   "metadata": {},
   "outputs": [
    {
     "data": {
      "text/plain": [
       "<matplotlib.collections.PathCollection at 0x257cad764f0>"
      ]
     },
     "execution_count": 4,
     "metadata": {},
     "output_type": "execute_result"
    },
    {
     "data": {
      "image/png": "[encoded data removed]",
      "text/plain": [
       "<Figure size 640x480 with 1 Axes>"
      ]
     },
     "metadata": {},
     "output_type": "display_data"
    }
   ],
   "source": [
    "plt.scatter(X_.squeeze().numpy(), y_.squeeze().numpy())"
   ]
  },
  {
   "cell_type": "code",
   "execution_count": 5,
   "metadata": {},
   "outputs": [],
   "source": [
    "train_data = TensorDataset(X_, y_)\n"
   ]
  },
  {
   "cell_type": "code",
   "execution_count": 6,
   "metadata": {},
   "outputs": [],
   "source": [
    "train_data_loader = DataLoader(train_data, batch_size=10, shuffle=True)"
   ]
  },
  {
   "cell_type": "code",
   "execution_count": 7,
   "metadata": {},
   "outputs": [],
   "source": [
    "model = nn.Sequential()\n",
    "model.add_module(\"Linear\", nn.Linear(1, 1))\n",
    "loss_fn = nn.MSELoss(reduction=\"mean\")\n",
    "optimizer = optim.SGD(model.parameters(), lr=0.1)"
   ]
  },
  {
   "cell_type": "code",
   "execution_count": 8,
   "metadata": {},
   "outputs": [
    {
     "data": {
      "text/plain": [
       "OrderedDict([('Linear.weight', tensor([[0.8454]])),\n",
       "             ('Linear.bias', tensor([-0.1074]))])"
      ]
     },
     "execution_count": 8,
     "metadata": {},
     "output_type": "execute_result"
    }
   ],
   "source": [
    "model.state_dict()"
   ]
  },
  {
   "cell_type": "code",
   "execution_count": 9,
   "metadata": {},
   "outputs": [
    {
     "data": {
      "text/plain": [
       "{'state': {},\n",
       " 'param_groups': [{'lr': 0.1,\n",
       "   'momentum': 0,\n",
       "   'dampening': 0,\n",
       "   'weight_decay': 0,\n",
       "   'nesterov': False,\n",
       "   'maximize': False,\n",
       "   'foreach': None,\n",
       "   'differentiable': False,\n",
       "   'params': [0, 1]}]}"
      ]
     },
     "execution_count": 9,
     "metadata": {},
     "output_type": "execute_result"
    }
   ],
   "source": [
    "optimizer.state_dict()"
   ]
  },
  {
   "cell_type": "code",
   "execution_count": 10,
   "metadata": {},
   "outputs": [],
   "source": [
    "epochs = 3"
   ]
  },
  {
   "cell_type": "code",
   "execution_count": 11,
   "metadata": {},
   "outputs": [
    {
     "name": "stdout",
     "output_type": "stream",
     "text": [
      "OrderedDict([('Linear.weight', tensor([[2.2985]])), ('Linear.bias', tensor([9.7749]))])\n",
      "135.38865661621094\n",
      "OrderedDict([('Linear.weight', tensor([[2.2985]])), ('Linear.bias', tensor([9.7749]))])\n",
      "90.18646240234375\n",
      "OrderedDict([('Linear.weight', tensor([[2.2985]])), ('Linear.bias', tensor([9.7749]))])\n",
      "53.857234954833984\n"
     ]
    }
   ],
   "source": [
    "history = []\n",
    "for epoch in range(epochs): \n",
    "    for X, y in train_data:\n",
    "        model.train()\n",
    "        y_hat = model(X)\n",
    "        loss =loss_fn(y_hat, y)\n",
    "        optimizer.zero_grad()\n",
    "        loss.backward()\n",
    "        optimizer.step()\n",
    "        history.append(loss.mean().item())\n",
    "    print(model.state_dict())\n",
    "    print(history[epoch])"
   ]
  },
  {
   "cell_type": "code",
   "execution_count": 12,
   "metadata": {},
   "outputs": [
    {
     "data": {
      "text/plain": [
       "tensor([[11.7380],\n",
       "        [ 8.3046],\n",
       "        [ 8.0504],\n",
       "        [ 8.8187],\n",
       "        [ 9.2980],\n",
       "        [ 9.2070],\n",
       "        [ 7.4213],\n",
       "        [ 2.1364],\n",
       "        [ 9.3885],\n",
       "        [ 8.5473],\n",
       "        [12.4182],\n",
       "        [12.3526],\n",
       "        [ 6.0246],\n",
       "        [13.7621],\n",
       "        [ 9.6579],\n",
       "        [10.2652],\n",
       "        [ 8.4957],\n",
       "        [ 8.0790],\n",
       "        [11.1564],\n",
       "        [ 8.7717],\n",
       "        [10.6960],\n",
       "        [ 9.2453],\n",
       "        [ 9.6191],\n",
       "        [12.4999],\n",
       "        [ 6.9035],\n",
       "        [ 9.5470],\n",
       "        [ 4.6677],\n",
       "        [11.1482],\n",
       "        [ 7.1711],\n",
       "        [11.1109],\n",
       "        [14.1030],\n",
       "        [ 9.4698],\n",
       "        [ 5.7692],\n",
       "        [ 5.9669],\n",
       "        [ 7.3915],\n",
       "        [ 8.6158],\n",
       "        [ 8.3814],\n",
       "        [12.6908],\n",
       "        [ 9.6095],\n",
       "        [ 9.6050],\n",
       "        [ 8.0702],\n",
       "        [ 9.2558],\n",
       "        [ 6.1858],\n",
       "        [ 7.9857],\n",
       "        [ 8.5526],\n",
       "        [10.3787],\n",
       "        [13.0901],\n",
       "        [ 9.8279],\n",
       "        [10.7768],\n",
       "        [10.7273],\n",
       "        [12.0371],\n",
       "        [11.0631],\n",
       "        [ 9.0734],\n",
       "        [ 5.5750],\n",
       "        [ 9.1437],\n",
       "        [ 9.5780],\n",
       "        [ 7.4747],\n",
       "        [11.3755],\n",
       "        [10.5166],\n",
       "        [11.0285],\n",
       "        [13.2098],\n",
       "        [ 4.1082],\n",
       "        [14.4244],\n",
       "        [11.3131],\n",
       "        [ 7.1013],\n",
       "        [10.0879],\n",
       "        [ 4.1854],\n",
       "        [10.5081],\n",
       "        [ 8.2467],\n",
       "        [10.2083],\n",
       "        [ 7.1236],\n",
       "        [ 9.2811],\n",
       "        [10.4773],\n",
       "        [ 9.5939],\n",
       "        [12.7843],\n",
       "        [ 8.3845],\n",
       "        [13.8872],\n",
       "        [11.9416],\n",
       "        [11.8570],\n",
       "        [ 6.0222],\n",
       "        [11.6879],\n",
       "        [ 7.3317],\n",
       "        [ 8.1328],\n",
       "        [ 9.8958],\n",
       "        [ 7.6148],\n",
       "        [10.1204],\n",
       "        [ 8.2280],\n",
       "        [ 9.0571],\n",
       "        [10.2167],\n",
       "        [12.6393],\n",
       "        [12.0262],\n",
       "        [ 9.0514],\n",
       "        [12.0645],\n",
       "        [14.5541],\n",
       "        [ 7.9486],\n",
       "        [ 9.9839],\n",
       "        [15.2560],\n",
       "        [ 5.3281],\n",
       "        [10.1189],\n",
       "        [13.0614]], grad_fn=<AddmmBackward0>)"
      ]
     },
     "execution_count": 12,
     "metadata": {},
     "output_type": "execute_result"
    }
   ],
   "source": [
    "model(X_)"
   ]
  },
  {
   "cell_type": "code",
   "execution_count": 13,
   "metadata": {},
   "outputs": [
    {
     "data": {
      "text/plain": [
       "tensor([[12.2503],\n",
       "        [ 9.9044],\n",
       "        [10.2439],\n",
       "        [ 9.0900],\n",
       "        [ 9.6630],\n",
       "        [ 9.1997],\n",
       "        [ 7.9582],\n",
       "        [ 2.1521],\n",
       "        [ 9.7960],\n",
       "        [ 8.8862],\n",
       "        [12.0834],\n",
       "        [12.4895],\n",
       "        [ 6.6917],\n",
       "        [14.2970],\n",
       "        [11.3981],\n",
       "        [ 9.5789],\n",
       "        [ 8.6170],\n",
       "        [10.8376],\n",
       "        [10.5957],\n",
       "        [10.2396],\n",
       "        [13.0144],\n",
       "        [ 7.5569],\n",
       "        [ 8.8857],\n",
       "        [14.5952],\n",
       "        [ 7.3970],\n",
       "        [10.1375],\n",
       "        [ 6.3887],\n",
       "        [ 9.4568],\n",
       "        [ 7.6438],\n",
       "        [ 8.8607],\n",
       "        [14.1485],\n",
       "        [ 9.7117],\n",
       "        [ 6.4316],\n",
       "        [ 5.9617],\n",
       "        [10.2550],\n",
       "        [ 6.5236],\n",
       "        [ 8.2081],\n",
       "        [11.6313],\n",
       "        [ 9.9131],\n",
       "        [ 7.8131],\n",
       "        [ 9.1100],\n",
       "        [11.0996],\n",
       "        [ 6.2461],\n",
       "        [ 7.6922],\n",
       "        [ 8.5049],\n",
       "        [11.3317],\n",
       "        [13.1510],\n",
       "        [ 9.4462],\n",
       "        [11.1539],\n",
       "        [12.8565],\n",
       "        [12.1277],\n",
       "        [11.1034],\n",
       "        [ 9.6083],\n",
       "        [ 5.9904],\n",
       "        [ 9.1208],\n",
       "        [ 9.6873],\n",
       "        [ 9.2217],\n",
       "        [11.6668],\n",
       "        [12.6947],\n",
       "        [11.6025],\n",
       "        [12.2186],\n",
       "        [ 6.0468],\n",
       "        [14.4500],\n",
       "        [12.5419],\n",
       "        [ 7.6571],\n",
       "        [10.4095],\n",
       "        [ 6.1353],\n",
       "        [12.3824],\n",
       "        [ 7.6311],\n",
       "        [10.0129],\n",
       "        [10.2654],\n",
       "        [ 9.3416],\n",
       "        [11.7644],\n",
       "        [11.4170],\n",
       "        [12.1850],\n",
       "        [ 8.9319],\n",
       "        [13.0005],\n",
       "        [12.0135],\n",
       "        [11.8496],\n",
       "        [ 5.6925],\n",
       "        [12.1435],\n",
       "        [ 7.8160],\n",
       "        [10.0614],\n",
       "        [11.4792],\n",
       "        [ 7.0012],\n",
       "        [11.4760],\n",
       "        [ 8.5453],\n",
       "        [ 7.9376],\n",
       "        [11.5262],\n",
       "        [13.0319],\n",
       "        [12.8298],\n",
       "        [11.0529],\n",
       "        [11.1117],\n",
       "        [14.3770],\n",
       "        [ 6.9598],\n",
       "        [10.1454],\n",
       "        [13.4860],\n",
       "        [ 6.1370],\n",
       "        [ 9.3521],\n",
       "        [13.9500]])"
      ]
     },
     "execution_count": 13,
     "metadata": {},
     "output_type": "execute_result"
    }
   ],
   "source": [
    "y_"
   ]
  },
  {
   "cell_type": "code",
   "execution_count": null,
   "metadata": {},
   "outputs": [],
   "source": []
  }
 ],
 "metadata": {
  "kernelspec": {
   "display_name": "deep2",
   "language": "python",
   "name": "python3"
  },
  "language_info": {
   "codemirror_mode": {
    "name": "ipython",
    "version": 3
   },
   "file_extension": ".py",
   "mimetype": "text/x-python",
   "name": "python",
   "nbconvert_exporter": "python",
   "pygments_lexer": "ipython3",
   "version": "3.9.16"
  },
  "orig_nbformat": 4
 },
 "nbformat": 4,
 "nbformat_minor": 2
}

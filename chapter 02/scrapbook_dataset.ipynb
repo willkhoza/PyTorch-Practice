{
 "cells": [
  {
   "cell_type": "code",
   "execution_count": 1,
   "metadata": {},
   "outputs": [],
   "source": [
    "import torch\n",
    "from torch import nn, optim\n",
    "from torch.utils.data import DataLoader, TensorDataset\n",
    "from matplotlib import pyplot as plt"
   ]
  },
  {
   "cell_type": "code",
   "execution_count": 2,
   "metadata": {},
   "outputs": [],
   "source": [
    "%matplotlib inline"
   ]
  },
  {
   "cell_type": "code",
   "execution_count": 31,
   "metadata": {},
   "outputs": [],
   "source": [
    "N = 100\n",
    "X_ = torch.randn((N)).view((-1,1))\n",
    "e_ = torch.randn((N)).view((-1,1))\n",
    "y_ = X_.mul(2).add(10).add(e_)"
   ]
  },
  {
   "cell_type": "code",
   "execution_count": 32,
   "metadata": {},
   "outputs": [
    {
     "data": {
      "text/plain": [
       "<matplotlib.collections.PathCollection at 0x202ce37e610>"
      ]
     },
     "execution_count": 32,
     "metadata": {},
     "output_type": "execute_result"
    },
    {
     "data": {
      "image/png": "[encoded data removed]",
      "text/plain": [
       "<Figure size 640x480 with 1 Axes>"
      ]
     },
     "metadata": {},
     "output_type": "display_data"
    }
   ],
   "source": [
    "plt.scatter(X_.squeeze().numpy(), y_.squeeze().numpy())"
   ]
  },
  {
   "cell_type": "code",
   "execution_count": 33,
   "metadata": {},
   "outputs": [],
   "source": [
    "train_data = TensorDataset(X_, y_)\n"
   ]
  },
  {
   "cell_type": "code",
   "execution_count": 34,
   "metadata": {},
   "outputs": [],
   "source": [
    "train_data_loader = DataLoader(train_data, batch_size=10, shuffle=True)"
   ]
  },
  {
   "cell_type": "code",
   "execution_count": 35,
   "metadata": {},
   "outputs": [],
   "source": [
    "model = nn.Sequential()\n",
    "model.add_module(\"Linear\", nn.Linear(1, 1))\n",
    "loss_fn = nn.MSELoss(reduction=\"mean\")\n",
    "optimizer = optim.SGD(model.parameters(), lr=0.1)"
   ]
  },
  {
   "cell_type": "code",
   "execution_count": 36,
   "metadata": {},
   "outputs": [
    {
     "data": {
      "text/plain": [
       "OrderedDict([('Linear.weight', tensor([[0.4896]])),\n",
       "             ('Linear.bias', tensor([-0.4682]))])"
      ]
     },
     "execution_count": 36,
     "metadata": {},
     "output_type": "execute_result"
    }
   ],
   "source": [
    "model.state_dict()"
   ]
  },
  {
   "cell_type": "code",
   "execution_count": 37,
   "metadata": {},
   "outputs": [
    {
     "data": {
      "text/plain": [
       "{'state': {},\n",
       " 'param_groups': [{'lr': 0.1,\n",
       "   'momentum': 0,\n",
       "   'dampening': 0,\n",
       "   'weight_decay': 0,\n",
       "   'nesterov': False,\n",
       "   'maximize': False,\n",
       "   'foreach': None,\n",
       "   'differentiable': False,\n",
       "   'params': [0, 1]}]}"
      ]
     },
     "execution_count": 37,
     "metadata": {},
     "output_type": "execute_result"
    }
   ],
   "source": [
    "optimizer.state_dict()"
   ]
  },
  {
   "cell_type": "code",
   "execution_count": 38,
   "metadata": {},
   "outputs": [],
   "source": [
    "epochs = 3"
   ]
  },
  {
   "cell_type": "code",
   "execution_count": 39,
   "metadata": {},
   "outputs": [
    {
     "name": "stdout",
     "output_type": "stream",
     "text": [
      "OrderedDict([('Linear.weight', tensor([[1.9455]])), ('Linear.bias', tensor([10.0122]))])\n",
      "115.34054565429688\n",
      "OrderedDict([('Linear.weight', tensor([[1.9455]])), ('Linear.bias', tensor([10.0122]))])\n",
      "92.88336944580078\n",
      "OrderedDict([('Linear.weight', tensor([[1.9455]])), ('Linear.bias', tensor([10.0122]))])\n",
      "62.39205551147461\n"
     ]
    }
   ],
   "source": [
    "history = []\n",
    "for epoch in range(epochs): \n",
    "    for X, y in train_data:\n",
    "        model.train()\n",
    "        y_hat = model(X)\n",
    "        loss =loss_fn(y_hat, y)\n",
    "        optimizer.zero_grad()\n",
    "        loss.backward()\n",
    "        optimizer.step()\n",
    "        history.append(loss.mean().item())\n",
    "    print(model.state_dict())\n",
    "    print(history[epoch])"
   ]
  },
  {
   "cell_type": "code",
   "execution_count": 40,
   "metadata": {},
   "outputs": [
    {
     "data": {
      "text/plain": [
       "tensor([[ 9.5982],\n",
       "        [11.1369],\n",
       "        [12.6423],\n",
       "        [ 9.1967],\n",
       "        [10.1635],\n",
       "        [14.8418],\n",
       "        [12.1009],\n",
       "        [ 8.5642],\n",
       "        [11.8762],\n",
       "        [11.9268],\n",
       "        [11.4086],\n",
       "        [ 9.8268],\n",
       "        [ 7.1810],\n",
       "        [11.5833],\n",
       "        [13.7384],\n",
       "        [ 8.6407],\n",
       "        [11.6658],\n",
       "        [ 9.3800],\n",
       "        [ 6.5858],\n",
       "        [ 9.2470],\n",
       "        [ 8.1603],\n",
       "        [13.9758],\n",
       "        [ 6.9989],\n",
       "        [11.7546],\n",
       "        [12.8643],\n",
       "        [ 9.8952],\n",
       "        [ 7.8455],\n",
       "        [ 9.6681],\n",
       "        [10.9575],\n",
       "        [12.7139],\n",
       "        [10.3760],\n",
       "        [11.3762],\n",
       "        [10.1830],\n",
       "        [ 8.7542],\n",
       "        [ 8.0499],\n",
       "        [ 8.8584],\n",
       "        [11.4019],\n",
       "        [11.6860],\n",
       "        [10.1723],\n",
       "        [12.3995],\n",
       "        [ 9.0136],\n",
       "        [13.5344],\n",
       "        [10.1973],\n",
       "        [ 9.8083],\n",
       "        [ 8.6565],\n",
       "        [11.2041],\n",
       "        [ 7.4416],\n",
       "        [ 8.4466],\n",
       "        [11.0239],\n",
       "        [11.0213],\n",
       "        [ 7.4744],\n",
       "        [ 8.3492],\n",
       "        [11.7662],\n",
       "        [11.1976],\n",
       "        [ 6.2672],\n",
       "        [10.3817],\n",
       "        [11.2347],\n",
       "        [12.9555],\n",
       "        [11.3813],\n",
       "        [10.7027],\n",
       "        [ 9.9493],\n",
       "        [11.9620],\n",
       "        [ 9.6951],\n",
       "        [ 8.0923],\n",
       "        [ 8.3595],\n",
       "        [10.2736],\n",
       "        [10.6492],\n",
       "        [12.5013],\n",
       "        [15.3232],\n",
       "        [ 6.1900],\n",
       "        [ 8.7235],\n",
       "        [10.9698],\n",
       "        [ 8.7740],\n",
       "        [ 8.4447],\n",
       "        [ 7.8474],\n",
       "        [ 8.4626],\n",
       "        [12.3484],\n",
       "        [10.6228],\n",
       "        [ 8.8076],\n",
       "        [ 8.6103],\n",
       "        [13.7254],\n",
       "        [ 7.1422],\n",
       "        [11.1871],\n",
       "        [10.9329],\n",
       "        [ 7.9686],\n",
       "        [ 8.7664],\n",
       "        [ 8.2738],\n",
       "        [ 8.9490],\n",
       "        [12.3441],\n",
       "        [12.3825],\n",
       "        [ 8.0241],\n",
       "        [10.2870],\n",
       "        [ 8.9825],\n",
       "        [11.3726],\n",
       "        [ 9.6047],\n",
       "        [11.6515],\n",
       "        [12.5319],\n",
       "        [11.4367],\n",
       "        [10.7399],\n",
       "        [10.9245]], grad_fn=<AddmmBackward0>)"
      ]
     },
     "execution_count": 40,
     "metadata": {},
     "output_type": "execute_result"
    }
   ],
   "source": [
    "model(X_)"
   ]
  },
  {
   "cell_type": "code",
   "execution_count": 41,
   "metadata": {},
   "outputs": [
    {
     "data": {
      "text/plain": [
       "tensor([[10.1673],\n",
       "        [11.3362],\n",
       "        [13.0566],\n",
       "        [ 9.8982],\n",
       "        [10.8852],\n",
       "        [15.1766],\n",
       "        [11.9374],\n",
       "        [ 8.5946],\n",
       "        [13.0229],\n",
       "        [10.8351],\n",
       "        [10.5801],\n",
       "        [10.5219],\n",
       "        [ 6.6977],\n",
       "        [10.6109],\n",
       "        [14.4639],\n",
       "        [ 7.1840],\n",
       "        [12.4959],\n",
       "        [ 9.2225],\n",
       "        [ 7.0512],\n",
       "        [ 9.3370],\n",
       "        [ 7.4114],\n",
       "        [15.3851],\n",
       "        [ 7.1061],\n",
       "        [11.7999],\n",
       "        [12.6078],\n",
       "        [ 8.4039],\n",
       "        [10.1921],\n",
       "        [ 8.6003],\n",
       "        [ 9.8315],\n",
       "        [12.5657],\n",
       "        [11.2341],\n",
       "        [10.5597],\n",
       "        [10.0843],\n",
       "        [ 8.9854],\n",
       "        [ 8.0870],\n",
       "        [ 8.0781],\n",
       "        [11.1309],\n",
       "        [10.8202],\n",
       "        [ 8.3400],\n",
       "        [13.0141],\n",
       "        [ 7.9936],\n",
       "        [15.5744],\n",
       "        [12.8078],\n",
       "        [ 9.1148],\n",
       "        [10.2740],\n",
       "        [12.0202],\n",
       "        [ 7.5484],\n",
       "        [ 6.8178],\n",
       "        [12.5159],\n",
       "        [11.9899],\n",
       "        [ 5.7486],\n",
       "        [ 7.8313],\n",
       "        [11.5737],\n",
       "        [12.1400],\n",
       "        [ 5.6170],\n",
       "        [ 8.5486],\n",
       "        [12.0770],\n",
       "        [13.2280],\n",
       "        [11.2824],\n",
       "        [ 9.7904],\n",
       "        [ 8.1729],\n",
       "        [13.5588],\n",
       "        [10.1456],\n",
       "        [ 8.6252],\n",
       "        [ 8.3233],\n",
       "        [ 9.9290],\n",
       "        [10.3361],\n",
       "        [11.8823],\n",
       "        [14.9556],\n",
       "        [ 7.0647],\n",
       "        [ 9.2646],\n",
       "        [11.1594],\n",
       "        [ 9.7368],\n",
       "        [ 9.7515],\n",
       "        [ 6.6853],\n",
       "        [ 9.0586],\n",
       "        [13.3383],\n",
       "        [10.7999],\n",
       "        [ 8.5090],\n",
       "        [ 9.6859],\n",
       "        [11.8766],\n",
       "        [ 8.2079],\n",
       "        [11.5688],\n",
       "        [11.6796],\n",
       "        [ 7.2158],\n",
       "        [ 9.4478],\n",
       "        [ 9.0559],\n",
       "        [ 8.5322],\n",
       "        [11.7512],\n",
       "        [11.0580],\n",
       "        [ 9.4550],\n",
       "        [10.9246],\n",
       "        [ 8.3545],\n",
       "        [10.0556],\n",
       "        [ 9.2899],\n",
       "        [11.5773],\n",
       "        [15.0778],\n",
       "        [11.1490],\n",
       "        [ 9.6529],\n",
       "        [10.7185]])"
      ]
     },
     "execution_count": 41,
     "metadata": {},
     "output_type": "execute_result"
    }
   ],
   "source": [
    "y_"
   ]
  },
  {
   "cell_type": "code",
   "execution_count": null,
   "metadata": {},
   "outputs": [],
   "source": []
  }
 ],
 "metadata": {
  "kernelspec": {
   "display_name": "deep2",
   "language": "python",
   "name": "python3"
  },
  "language_info": {
   "codemirror_mode": {
    "name": "ipython",
    "version": 3
   },
   "file_extension": ".py",
   "mimetype": "text/x-python",
   "name": "python",
   "nbconvert_exporter": "python",
   "pygments_lexer": "ipython3",
   "version": "3.9.16"
  },
  "orig_nbformat": 4
 },
 "nbformat": 4,
 "nbformat_minor": 2
}
